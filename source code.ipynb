{
 "cells": [
  {
   "cell_type": "code",
   "execution_count": 1,
   "metadata": {},
   "outputs": [],
   "source": [
    "#import the libraries\n",
    "import pandas as pd\n",
    "import numpy as np"
   ]
  },
  {
   "cell_type": "code",
   "execution_count": 2,
   "metadata": {},
   "outputs": [
    {
     "data": {
      "text/html": [
       "<div>\n",
       "<style scoped>\n",
       "    .dataframe tbody tr th:only-of-type {\n",
       "        vertical-align: middle;\n",
       "    }\n",
       "\n",
       "    .dataframe tbody tr th {\n",
       "        vertical-align: top;\n",
       "    }\n",
       "\n",
       "    .dataframe thead th {\n",
       "        text-align: right;\n",
       "    }\n",
       "</style>\n",
       "<table border=\"1\" class=\"dataframe\">\n",
       "  <thead>\n",
       "    <tr style=\"text-align: right;\">\n",
       "      <th></th>\n",
       "      <th>Date</th>\n",
       "      <th>Price</th>\n",
       "      <th>Open</th>\n",
       "      <th>High</th>\n",
       "      <th>Low</th>\n",
       "      <th>Vol</th>\n",
       "      <th>Change %</th>\n",
       "    </tr>\n",
       "  </thead>\n",
       "  <tbody>\n",
       "    <tr>\n",
       "      <th>746</th>\n",
       "      <td>Mar 13. 2020</td>\n",
       "      <td>5584.3</td>\n",
       "      <td>4815.2</td>\n",
       "      <td>5934.3</td>\n",
       "      <td>3869.5</td>\n",
       "      <td>417M</td>\n",
       "      <td>15.71%</td>\n",
       "    </tr>\n",
       "    <tr>\n",
       "      <th>745</th>\n",
       "      <td>Mar 14. 2020</td>\n",
       "      <td>5182.7</td>\n",
       "      <td>5589.4</td>\n",
       "      <td>5634.9</td>\n",
       "      <td>5072.2</td>\n",
       "      <td>169M</td>\n",
       "      <td>-7.19%</td>\n",
       "    </tr>\n",
       "    <tr>\n",
       "      <th>744</th>\n",
       "      <td>Mar 15. 2020</td>\n",
       "      <td>5366.3</td>\n",
       "      <td>5182.9</td>\n",
       "      <td>5863.3</td>\n",
       "      <td>5120.6</td>\n",
       "      <td>161M</td>\n",
       "      <td>3.54%</td>\n",
       "    </tr>\n",
       "    <tr>\n",
       "      <th>743</th>\n",
       "      <td>Mar 16. 2020</td>\n",
       "      <td>5030.0</td>\n",
       "      <td>5366.4</td>\n",
       "      <td>5369.3</td>\n",
       "      <td>4477.7</td>\n",
       "      <td>255M</td>\n",
       "      <td>-6.27%</td>\n",
       "    </tr>\n",
       "    <tr>\n",
       "      <th>742</th>\n",
       "      <td>Mar 17. 2020</td>\n",
       "      <td>5261.1</td>\n",
       "      <td>5030.2</td>\n",
       "      <td>5432.8</td>\n",
       "      <td>4946.5</td>\n",
       "      <td>189M</td>\n",
       "      <td>4.59%</td>\n",
       "    </tr>\n",
       "    <tr>\n",
       "      <th>...</th>\n",
       "      <td>...</td>\n",
       "      <td>...</td>\n",
       "      <td>...</td>\n",
       "      <td>...</td>\n",
       "      <td>...</td>\n",
       "      <td>...</td>\n",
       "      <td>...</td>\n",
       "    </tr>\n",
       "    <tr>\n",
       "      <th>4</th>\n",
       "      <td>Mar 25. 2022</td>\n",
       "      <td>44331.0</td>\n",
       "      <td>44013.0</td>\n",
       "      <td>45112.0</td>\n",
       "      <td>43622.0</td>\n",
       "      <td>49409M</td>\n",
       "      <td>0.72%</td>\n",
       "    </tr>\n",
       "    <tr>\n",
       "      <th>3</th>\n",
       "      <td>Mar 26. 2022</td>\n",
       "      <td>44548.0</td>\n",
       "      <td>44331.0</td>\n",
       "      <td>44818.0</td>\n",
       "      <td>44090.0</td>\n",
       "      <td>19630M</td>\n",
       "      <td>0.49%</td>\n",
       "    </tr>\n",
       "    <tr>\n",
       "      <th>2</th>\n",
       "      <td>Mar 27. 2022</td>\n",
       "      <td>46859.0</td>\n",
       "      <td>44542.0</td>\n",
       "      <td>46947.0</td>\n",
       "      <td>44445.0</td>\n",
       "      <td>38879M</td>\n",
       "      <td>5.19%</td>\n",
       "    </tr>\n",
       "    <tr>\n",
       "      <th>1</th>\n",
       "      <td>Mar 28. 2022</td>\n",
       "      <td>47105.0</td>\n",
       "      <td>46859.0</td>\n",
       "      <td>48199.0</td>\n",
       "      <td>46672.0</td>\n",
       "      <td>61027M</td>\n",
       "      <td>0.52%</td>\n",
       "    </tr>\n",
       "    <tr>\n",
       "      <th>0</th>\n",
       "      <td>Mar 29. 2022</td>\n",
       "      <td>47818.0</td>\n",
       "      <td>47126.0</td>\n",
       "      <td>48127.0</td>\n",
       "      <td>47087.0</td>\n",
       "      <td>51467M</td>\n",
       "      <td>1.51%</td>\n",
       "    </tr>\n",
       "  </tbody>\n",
       "</table>\n",
       "<p>747 rows × 7 columns</p>\n",
       "</div>"
      ],
      "text/plain": [
       "             Date    Price     Open     High      Low     Vol Change %\n",
       "746  Mar 13. 2020   5584.3   4815.2   5934.3   3869.5    417M   15.71%\n",
       "745  Mar 14. 2020   5182.7   5589.4   5634.9   5072.2    169M   -7.19%\n",
       "744  Mar 15. 2020   5366.3   5182.9   5863.3   5120.6    161M    3.54%\n",
       "743  Mar 16. 2020   5030.0   5366.4   5369.3   4477.7    255M   -6.27%\n",
       "742  Mar 17. 2020   5261.1   5030.2   5432.8   4946.5    189M    4.59%\n",
       "..            ...      ...      ...      ...      ...     ...      ...\n",
       "4    Mar 25. 2022  44331.0  44013.0  45112.0  43622.0  49409M    0.72%\n",
       "3    Mar 26. 2022  44548.0  44331.0  44818.0  44090.0  19630M    0.49%\n",
       "2    Mar 27. 2022  46859.0  44542.0  46947.0  44445.0  38879M    5.19%\n",
       "1    Mar 28. 2022  47105.0  46859.0  48199.0  46672.0  61027M    0.52%\n",
       "0    Mar 29. 2022  47818.0  47126.0  48127.0  47087.0  51467M    1.51%\n",
       "\n",
       "[747 rows x 7 columns]"
      ]
     },
     "execution_count": 2,
     "metadata": {},
     "output_type": "execute_result"
    }
   ],
   "source": [
    "data_set=pd.read_csv('Bitcoin Historical Data - Investing.com India.csv', sep=';')\n",
    "data_set.iloc[::-1]"
   ]
  },
  {
   "cell_type": "code",
   "execution_count": 3,
   "metadata": {},
   "outputs": [
    {
     "data": {
      "text/plain": [
       "Date         object\n",
       "Price       float64\n",
       "Open        float64\n",
       "High        float64\n",
       "Low         float64\n",
       "Vol          object\n",
       "Change %     object\n",
       "dtype: object"
      ]
     },
     "execution_count": 3,
     "metadata": {},
     "output_type": "execute_result"
    }
   ],
   "source": [
    "data_set.dtypes"
   ]
  },
  {
   "cell_type": "code",
   "execution_count": 4,
   "metadata": {},
   "outputs": [
    {
     "name": "stdout",
     "output_type": "stream",
     "text": [
      "       Price\n",
      "746   5584.3\n",
      "745   5182.7\n",
      "744   5366.3\n",
      "743   5030.0\n",
      "742   5261.1\n",
      "..       ...\n",
      "4    44331.0\n",
      "3    44548.0\n",
      "2    46859.0\n",
      "1    47105.0\n",
      "0    47818.0\n",
      "\n",
      "[747 rows x 1 columns]\n"
     ]
    }
   ],
   "source": [
    "data_set_new =pd.DataFrame(data_set[['Price']].iloc[::-1])\n",
    "print(data_set_new)"
   ]
  },
  {
   "cell_type": "code",
   "execution_count": 5,
   "metadata": {},
   "outputs": [
    {
     "data": {
      "text/plain": [
       "Price    float64\n",
       "dtype: object"
      ]
     },
     "execution_count": 5,
     "metadata": {},
     "output_type": "execute_result"
    }
   ],
   "source": [
    "d_types_sereis=data_set_new.dtypes\n",
    "d_types_sereis"
   ]
  },
  {
   "cell_type": "code",
   "execution_count": 6,
   "metadata": {},
   "outputs": [],
   "source": [
    "prediction_days=30\n",
    "data_set_new['Prediction']=data_set_new[['Price']].shift(-prediction_days)"
   ]
  },
  {
   "cell_type": "code",
   "execution_count": 7,
   "metadata": {},
   "outputs": [
    {
     "data": {
      "text/html": [
       "<div>\n",
       "<style scoped>\n",
       "    .dataframe tbody tr th:only-of-type {\n",
       "        vertical-align: middle;\n",
       "    }\n",
       "\n",
       "    .dataframe tbody tr th {\n",
       "        vertical-align: top;\n",
       "    }\n",
       "\n",
       "    .dataframe thead th {\n",
       "        text-align: right;\n",
       "    }\n",
       "</style>\n",
       "<table border=\"1\" class=\"dataframe\">\n",
       "  <thead>\n",
       "    <tr style=\"text-align: right;\">\n",
       "      <th></th>\n",
       "      <th>Price</th>\n",
       "      <th>Prediction</th>\n",
       "    </tr>\n",
       "  </thead>\n",
       "  <tbody>\n",
       "    <tr>\n",
       "      <th>746</th>\n",
       "      <td>5584.3</td>\n",
       "      <td>6917.6</td>\n",
       "    </tr>\n",
       "    <tr>\n",
       "      <th>745</th>\n",
       "      <td>5182.7</td>\n",
       "      <td>6841.3</td>\n",
       "    </tr>\n",
       "    <tr>\n",
       "      <th>744</th>\n",
       "      <td>5366.3</td>\n",
       "      <td>6850.9</td>\n",
       "    </tr>\n",
       "    <tr>\n",
       "      <th>743</th>\n",
       "      <td>5030.0</td>\n",
       "      <td>6629.1</td>\n",
       "    </tr>\n",
       "    <tr>\n",
       "      <th>742</th>\n",
       "      <td>5261.1</td>\n",
       "      <td>7085.6</td>\n",
       "    </tr>\n",
       "  </tbody>\n",
       "</table>\n",
       "</div>"
      ],
      "text/plain": [
       "      Price  Prediction\n",
       "746  5584.3      6917.6\n",
       "745  5182.7      6841.3\n",
       "744  5366.3      6850.9\n",
       "743  5030.0      6629.1\n",
       "742  5261.1      7085.6"
      ]
     },
     "execution_count": 7,
     "metadata": {},
     "output_type": "execute_result"
    }
   ],
   "source": [
    "data_set_new.head()"
   ]
  },
  {
   "cell_type": "code",
   "execution_count": 8,
   "metadata": {
    "scrolled": true
   },
   "outputs": [],
   "source": [
    "data_set_new['Price'] = data_set_new['Price'].astype(float)\n"
   ]
  },
  {
   "cell_type": "code",
   "execution_count": 9,
   "metadata": {},
   "outputs": [
    {
     "data": {
      "text/plain": [
       "47105.0"
      ]
     },
     "execution_count": 9,
     "metadata": {},
     "output_type": "execute_result"
    }
   ],
   "source": [
    "data_set_new.Price[1]"
   ]
  },
  {
   "cell_type": "code",
   "execution_count": 10,
   "metadata": {},
   "outputs": [],
   "source": [
    "X=np.array(data_set_new.drop(['Prediction'],1))"
   ]
  },
  {
   "cell_type": "code",
   "execution_count": 11,
   "metadata": {},
   "outputs": [
    {
     "data": {
      "text/plain": [
       "(717, 1)"
      ]
     },
     "execution_count": 11,
     "metadata": {},
     "output_type": "execute_result"
    }
   ],
   "source": [
    "X=X[:len(data_set_new)-prediction_days]\n",
    "X.shape"
   ]
  },
  {
   "cell_type": "code",
   "execution_count": null,
   "metadata": {},
   "outputs": [],
   "source": []
  },
  {
   "cell_type": "code",
   "execution_count": 12,
   "metadata": {},
   "outputs": [
    {
     "name": "stdout",
     "output_type": "stream",
     "text": [
      "(717, 1)\n"
     ]
    }
   ],
   "source": [
    "print(X.shape)"
   ]
  },
  {
   "cell_type": "code",
   "execution_count": 13,
   "metadata": {},
   "outputs": [],
   "source": [
    "y=np.array(data_set_new['Prediction'])\n",
    "y=y[:-prediction_days]"
   ]
  },
  {
   "cell_type": "code",
   "execution_count": 14,
   "metadata": {},
   "outputs": [
    {
     "name": "stdout",
     "output_type": "stream",
     "text": [
      "[ 6917.6  6841.3  6850.9  6629.1  7085.6  7035.8  7230.8  7122.9  6833.5\n",
      "  6842.5  7112.9  7488.5  7503.8  7540.4  7678.9  7766.   7746.9  8770.9\n",
      "  8629.   8821.6  8966.3  8885.5  8874.7  9001.   9151.4  9979.8  9806.2\n",
      "  9554.6  8738.8  8579.8  8813.8  9298.7  9778.4  9318.   9379.5  9677.7\n",
      "  9730.7  9773.3  9512.3  9059.   9169.7  9177.   8728.2  8898.2  8842.5\n",
      "  9199.1  9572.2  9424.8  9692.5  9454.8 10189.3  9527.6  9667.2  9794.4\n",
      "  9631.2  9669.6  9742.6  9777.9  9768.8  9878.8  9283.2  9466.6  9471.3\n",
      "  9345.3  9425.4  9523.5  9464.6  9388.1  9314.   9358.8  9296.4  9683.7\n",
      "  9624.6  9302.   9247.5  9160.   9008.3  9124.   9185.4  9135.4  9229.9\n",
      "  9085.1  9067.1  9134.4  9081.   9339.   9256.   9429.9  9235.7  9285.1\n",
      "  9233.3  9300.8  9243.6  9253.4  9198.7  9135.3  9155.8  9170.2  9208.\n",
      "  9162.4  9387.3  9513.7  9599.6  9546.4  9704.1  9932.5 11022.8 10908.5\n",
      " 11105.9 11096.2 11333.4 11803.1 11066.8 11224.4 11184.7 11735.1 11757.1\n",
      " 11592.  11764.3 11681.2 11889.2 11390.4 11557.2 11770.9 11750.8 11845.3\n",
      " 11899.  12282.6 11947.6 11750.2 11856.9 11529.2 11661.3 11641.6 11753.5\n",
      " 11324.8 11462.3 11327.4 11527.4 11468.1 11702.  11644.2 11914.9 11413.3\n",
      " 10168.8 10472.5 10092.2 10296.4 10376.9 10126.6 10224.6 10339.7 10390.2\n",
      " 10441.9 10326.  10675.3 10785.3 10949.5 10941.3 10933.  11081.8 10921.5\n",
      " 10416.8 10531.5 10237.3 10739.4 10688.8 10727.9 10776.2 10693.2 10840.9\n",
      " 10776.1 10620.5 10572.3 10544.2 10672.9 10789.5 10602.6 10670.9 10924.1\n",
      " 11054.2 11298.4 11371.  11533.9 11423.8 11420.4 11503.  11322.  11362.1\n",
      " 11506.9 11753.4 11913.5 12808.7 12974.6 12934.1 13117.2 13032.2 13061.6\n",
      " 13657.8 13278.9 13457.2 13559.9 13797.3 13759.4 13561.4 14019.9 14145.6\n",
      " 15587.1 15577.9 14828.4 15483.7 15327.2 15303.6 15695.8 16294.7 16324.2\n",
      " 16071.  15953.  16715.8 17662.3 17774.6 17803.5 18675.2 18687.2 18412.9\n",
      " 18379.6 19152.6 18723.  17162.  17127.1 17730.7 18185.5 19698.1 18770.7\n",
      " 19218.8 19433.3 18658.1 19146.5 19379.9 19170.7 18326.6 18546.  18247.2\n",
      " 18023.6 18808.9 19176.8 19273.8 19434.9 21352.2 22825.4 23127.9 23844.\n",
      " 23474.9 22728.5 23823.2 23257.9 23736.5 24689.6 26454.4 26261.3 27057.8\n",
      " 27376.  28868.7 28949.4 29359.9 32193.3 32958.9 32022.6 33991.5 36793.2\n",
      " 39460.2 40599.3 40151.9 38192.2 35544.3 34076.1 37382.2 39175.7 36845.8\n",
      " 36019.5 35839.6 36613.2 36002.9 35476.3 30842.1 33000.5 32088.9 32241.3\n",
      " 32252.3 32502.1 30404.  33374.8 34301.8 34283.1 33108.1 33515.7 35485.2\n",
      " 37646.8 36982.1 38297.6 39256.6 38852.9 46395.7 46508.6 44836.  47990.7\n",
      " 47371.7 47168.7 48643.4 47936.3 49169.7 52079.2 51582.2 55906.6 55923.7\n",
      " 57433.8 54111.8 48911.2 49697.5 46928.5 46345.6 46136.7 45164.  49595.5\n",
      " 48424.2 50395.1 48428.  48792.5 48855.6 50982.3 52311.  54879.  55851.9\n",
      " 57799.5 57265.1 61195.3 59113.7 55791.3 56889.7 58913.5 57656.  58088.\n",
      " 58093.4 57383.8 54158.3 54452.5 52325.4 51322.3 55036.1 55862.9 55765.2\n",
      " 57616.2 58771.3 58763.7 58718.3 58977.3 57059.9 58199.9 58993.4 57996.3\n",
      " 55948.7 58077.4 58118.7 59748.4 59978.7 59863.8 63540.9 62980.4 63216.\n",
      " 61379.7 60041.9 56207.1 55646.1 56483.2 53820.2 51729.5 51143.6 50088.9\n",
      " 48963.6 54020.5 55036.5 54841.4 53560.8 57720.3 57807.1 56603.8 57169.8\n",
      " 53741.5 57441.3 56405.4 57337.2 58840.1 58238.3 55848.9 56695.7 49384.2\n",
      " 49704.6 49839.8 46708.8 46426.4 43541.3 42897.3 36720.5 40717.2 37297.4\n",
      " 37448.3 34679.7 38750.6 38378.3 39249.2 38417.3 35662.5 34584.6 35652.8\n",
      " 37298.6 36687.6 37555.8 39187.3 36851.3 35520.  35815.4 33578.  33382.9\n",
      " 37332.2 36649.4 37314.6 35467.5 39022.9 40529.4 40156.1 38336.  38052.\n",
      " 35749.4 35513.4 35595.8 31692.  32496.4 33674.3 34665.8 31594.  32243.4\n",
      " 34678.5 34475.9 35834.7 35026.9 33543.6 33813.4 34742.8 35298.2 33687.8\n",
      " 34225.6 33867.8 32866.3 33797.4 33510.6 34227.7 33113.  32728.1 32820.7\n",
      " 31840.5 31394.  31518.6 31785.4 30837.2 29793.8 32131.4 32298.9 33603.3\n",
      " 33824.8 35391.1 37276.6 39452.  40003.2 40001.4 42203.4 41553.7 39878.3\n",
      " 39168.4 38130.3 39736.9 40867.2 42795.4 44614.2 43792.8 46284.3 45593.8\n",
      " 45564.3 44403.4 47809.1 47081.5 46991.3 45996.3 44691.6 44723.8 46755.9\n",
      " 49324.  48875.8 49254.5 49539.7 47714.7 48994.5 46831.6 49064.3 48897.1\n",
      " 48777.4 46992.7 47130.4 48819.4 49274.3 49999.  49918.4 51768.6 52672.1\n",
      " 46779.6 46061.4 46385.6 44842.8 45161.9 46062.3 44949.5 47077.5 48130.6\n",
      " 47748.  47282.8 48306.7 47238.7 42870.6 40651.3 43551.6 44869.2 42819.9\n",
      " 42686.8 43203.4 42172.6 41022.3 41536.8 43823.3 48146.  47666.9 48200.1\n",
      " 49227.3 51469.3 55323.2 53783.9 53914.7 54942.5 54687.7 57477.3 56015.9\n",
      " 57380.1 57345.8 61672.5 60861.1 61527.5 62056.3 64278.5 65979.1 62210.2\n",
      " 60690.3 61312.5 60866.5 63067.  60310.8 58438.1 60582.5 62242.8 61840.1\n",
      " 61309.6 60915.3 63221.7 62918.5 61412.6 60974.3 61483.9 63273.2 67527.9\n",
      " 66904.4 64932.6 64806.7 64134.5 64398.6 65508.2 63597.9 60089.1 60367.8\n",
      " 56955.3 58083.4 59717.6 58714.3 56308.8 57573.2 57171.7 58935.1 53730.9\n",
      " 54765.9 57291.5 57794.8 56882.9 57210.3 56496.  53631.5 49195.2 49405.5\n",
      " 50562.1 50595.2 50473.9 47596.6 47137.2 49314.5 50081.  46703.6 48366.5\n",
      " 48871.5 47628.2 46172.2 46856.2 46704.5 46895.2 48902.  48599.7 50801.\n",
      " 50786.1 50406.4 50779.9 50678.2 47545.2 46461.7 47123.3 46219.5 47738.\n",
      " 47311.8 46430.2 45837.3 43425.9 43097.5 41546.7 41672.  41848.3 41832.2\n",
      " 42733.2 43901.  42560.  43073.3 43097.  43079.1 42209.3 42364.6 41677.8\n",
      " 40715.9 36475.5 35075.2 36269.5 36686.3 36950.6 36800.4 37164.3 37745.1\n",
      " 38170.8 37917.7 38498.6 38709.7 36890.2 37287.8 41567.6 41412.1 42392.2\n",
      " 43833.9 44038.2 44388.9 43521.  42388.4 42205.2 42061.1 42550.3 44544.4\n",
      " 43883.6 40552.8 40000.1 40090.3 38355.  37017.7 38248.2 37224.6 38339.2\n",
      " 39209.6 39115.5 37689.1 43188.2 44420.3 43912.8 42463.  39142.7 39395.8\n",
      " 38403.1 38024.8 38744.8 41929.  39416.3 38730.2 38814.3 37792.4 39671.1\n",
      " 39285.7 41118.7 40914.8 41767.8 42233.  41276.  41022.  42373.  42912.\n",
      " 44013.  44331.  44548.  46859.  47105.  47818. ]\n"
     ]
    }
   ],
   "source": [
    "print(y)"
   ]
  },
  {
   "cell_type": "code",
   "execution_count": 15,
   "metadata": {},
   "outputs": [
    {
     "name": "stdout",
     "output_type": "stream",
     "text": [
      "(717,)\n"
     ]
    }
   ],
   "source": [
    "print(y.shape)"
   ]
  },
  {
   "cell_type": "code",
   "execution_count": 16,
   "metadata": {},
   "outputs": [],
   "source": [
    "#split the data in 80% training and 20% testing\n",
    "from sklearn.model_selection import train_test_split\n",
    "X_train,x_test,y_train,y_test=train_test_split(X,y, test_size=0.2)"
   ]
  },
  {
   "cell_type": "code",
   "execution_count": 17,
   "metadata": {},
   "outputs": [],
   "source": [
    "prediction_days_array=np.array(data_set_new.drop(['Prediction'],1))[-prediction_days:]"
   ]
  },
  {
   "cell_type": "code",
   "execution_count": 18,
   "metadata": {},
   "outputs": [
    {
     "name": "stdout",
     "output_type": "stream",
     "text": [
      "[[43188.2]\n",
      " [44420.3]\n",
      " [43912.8]\n",
      " [42463. ]\n",
      " [39142.7]\n",
      " [39395.8]\n",
      " [38403.1]\n",
      " [38024.8]\n",
      " [38744.8]\n",
      " [41929. ]\n",
      " [39416.3]\n",
      " [38730.2]\n",
      " [38814.3]\n",
      " [37792.4]\n",
      " [39671.1]\n",
      " [39285.7]\n",
      " [41118.7]\n",
      " [40914.8]\n",
      " [41767.8]\n",
      " [42233. ]\n",
      " [41276. ]\n",
      " [41022. ]\n",
      " [42373. ]\n",
      " [42912. ]\n",
      " [44013. ]\n",
      " [44331. ]\n",
      " [44548. ]\n",
      " [46859. ]\n",
      " [47105. ]\n",
      " [47818. ]]\n"
     ]
    }
   ],
   "source": [
    "print(prediction_days_array)"
   ]
  },
  {
   "cell_type": "code",
   "execution_count": 31,
   "metadata": {},
   "outputs": [
    {
     "data": {
      "text/plain": [
       "SVR(C=1000.0, gamma=1e-08)"
      ]
     },
     "execution_count": 31,
     "metadata": {},
     "output_type": "execute_result"
    }
   ],
   "source": [
    "from sklearn.svm import SVR\n",
    "svr_rbf=SVR(kernel='rbf',C=1e3,gamma=0.00000001)\n",
    "svr_rbf.fit(X_train,y_train)"
   ]
  },
  {
   "cell_type": "code",
   "execution_count": 32,
   "metadata": {},
   "outputs": [
    {
     "name": "stdout",
     "output_type": "stream",
     "text": [
      "svr_rbf accuracu: 0.8594858065204007\n"
     ]
    }
   ],
   "source": [
    "#Test the model\n",
    "svr_rbf_confidence=svr_rbf.score(x_test, y_test)\n",
    "print(\"svr_rbf accuracu:\", svr_rbf_confidence)"
   ]
  },
  {
   "cell_type": "code",
   "execution_count": 138,
   "metadata": {},
   "outputs": [
    {
     "data": {
      "text/plain": [
       "[<matplotlib.lines.Line2D at 0x18a77b89ee0>]"
      ]
     },
     "execution_count": 138,
     "metadata": {},
     "output_type": "execute_result"
    },
    {
     "data": {
      "image/png": "[encoded data removed]",
      "text/plain": [
       "<Figure size 432x288 with 1 Axes>"
      ]
     },
     "metadata": {
      "needs_background": "light"
     },
     "output_type": "display_data"
    }
   ],
   "source": [
    "import matplotlib.pyplot as plt\n",
    "y_=np.linspace(0,1460,1460)\n",
    "plt.plot(X,y_, color='navy',label='RBF model')"
   ]
  },
  {
   "cell_type": "code",
   "execution_count": 139,
   "metadata": {},
   "outputs": [
    {
     "data": {
      "text/plain": [
       "(1460,)"
      ]
     },
     "execution_count": 139,
     "metadata": {},
     "output_type": "execute_result"
    }
   ],
   "source": [
    "y_.shape"
   ]
  },
  {
   "cell_type": "code",
   "execution_count": 140,
   "metadata": {},
   "outputs": [
    {
     "data": {
      "text/plain": [
       "(1168, 1)"
      ]
     },
     "execution_count": 140,
     "metadata": {},
     "output_type": "execute_result"
    }
   ],
   "source": [
    "X_train.shape"
   ]
  },
  {
   "cell_type": "code",
   "execution_count": null,
   "metadata": {},
   "outputs": [],
   "source": []
  }
 ],
 "metadata": {
  "kernelspec": {
   "display_name": "Python 3",
   "language": "python",
   "name": "python3"
  },
  "language_info": {
   "codemirror_mode": {
    "name": "ipython",
    "version": 3
   },
   "file_extension": ".py",
   "mimetype": "text/x-python",
   "name": "python",
   "nbconvert_exporter": "python",
   "pygments_lexer": "ipython3",
   "version": "3.8.3"
  }
 },
 "nbformat": 4,
 "nbformat_minor": 4
}
