{
 "cells": [
  {
   "cell_type": "code",
   "execution_count": null,
   "metadata": {},
   "outputs": [],
   "source": [
    "with open('Bitcoin Historical Data - Investing.com India.csv', \"r+\", encoding=\"utf-8\") as csv_file:\n",
    "    content = csv_file.read()\n",
    "\n",
    "with open('Bitcoin Historical Data - Investing.com India.csv', \"w+\", encoding=\"utf-8\") as csv_file:\n",
    "    csv_file.write(content.replace('\"', ''))"
   ]
  },
  {
   "cell_type": "code",
   "execution_count": 1,
   "metadata": {},
   "outputs": [],
   "source": [
    "with open('Bitcoin Historical Data - Investing.com India.csv', \"r+\", encoding=\"utf-8\") as csv_file:\n",
    "    content = csv_file.read()\n",
    "\n",
    "with open('Bitcoin Historical Data - Investing.com India.csv', \"w+\", encoding=\"utf-8\") as csv_file:\n",
    "    csv_file.write(content.replace(',', '_'))"
   ]
  },
  {
   "cell_type": "code",
   "execution_count": 2,
   "metadata": {},
   "outputs": [],
   "source": [
    "with open('Bitcoin Historical Data - Investing.com India.csv', \"r+\", encoding=\"utf-8\") as csv_file:\n",
    "    content = csv_file.read()\n",
    "\n",
    "with open('Bitcoin Historical Data - Investing.com India.csv', \"w+\", encoding=\"utf-8\") as csv_file:\n",
    "    csv_file.write(content.replace('.', ','))"
   ]
  },
  {
   "cell_type": "code",
   "execution_count": 3,
   "metadata": {},
   "outputs": [],
   "source": [
    "with open('Bitcoin Historical Data - Investing.com India.csv', \"r+\", encoding=\"utf-8\") as csv_file:\n",
    "    content = csv_file.read()\n",
    "\n",
    "with open('Bitcoin Historical Data - Investing.com India.csv', \"w+\", encoding=\"utf-8\") as csv_file:\n",
    "    csv_file.write(content.replace('_', '.'))"
   ]
  },
  {
   "cell_type": "code",
   "execution_count": 4,
   "metadata": {},
   "outputs": [],
   "source": [
    "with open('Bitcoin Historical Data - Investing.com India.csv', \"r+\", encoding=\"utf-8\") as csv_file:\n",
    "    content = csv_file.read()\n",
    "\n",
    "with open('Bitcoin Historical Data - Investing.com India.csv', \"w+\", encoding=\"utf-8\") as csv_file:\n",
    "    csv_file.write(content.replace(',', ''))"
   ]
  },
  {
   "cell_type": "code",
   "execution_count": null,
   "metadata": {},
   "outputs": [],
   "source": []
  }
 ],
 "metadata": {
  "kernelspec": {
   "display_name": "Python 3",
   "language": "python",
   "name": "python3"
  },
  "language_info": {
   "codemirror_mode": {
    "name": "ipython",
    "version": 3
   },
   "file_extension": ".py",
   "mimetype": "text/x-python",
   "name": "python",
   "nbconvert_exporter": "python",
   "pygments_lexer": "ipython3",
   "version": "3.8.3"
  }
 },
 "nbformat": 4,
 "nbformat_minor": 4
}
